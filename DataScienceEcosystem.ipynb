{
  "metadata": {
    "kernelspec": {
      "name": "python",
      "display_name": "Python (Pyodide)",
      "language": "python"
    },
    "language_info": {
      "codemirror_mode": {
        "name": "python",
        "version": 3
      },
      "file_extension": ".py",
      "mimetype": "text/x-python",
      "name": "python",
      "nbconvert_exporter": "python",
      "pygments_lexer": "ipython3",
      "version": "3.8"
    }
  },
  "nbformat_minor": 4,
  "nbformat": 4,
  "cells": [
    {
      "cell_type": "markdown",
      "source": "# Ex 1\n\n# Completed",
      "metadata": {}
    },
    {
      "cell_type": "markdown",
      "source": "# Ex 2\n\n# Data Science Tools and Ecosystem",
      "metadata": {}
    },
    {
      "cell_type": "markdown",
      "source": "# Ex 10\n# *Objectives:*\n- List of popular languages for Data Science\n- List of commonly used libraries used by Data Scientists\n- Table of Data Science Tools\n- Examples of evaluating arithmetic expressions in Python",
      "metadata": {}
    },
    {
      "cell_type": "markdown",
      "source": "# Ex 3\n\n# In this notebook, Data Science Tools *and* Ecosystem are summarized.",
      "metadata": {}
    },
    {
      "cell_type": "markdown",
      "source": "# Ex 4\n\n# Some of the popular languages that Data Scientists use are:\n1. Python\n2. Scala\n3. SQL",
      "metadata": {}
    },
    {
      "cell_type": "markdown",
      "source": "# Ex 5\n\n# Some of the commonly used libraries used by Data Scientists include:\n1. Scikit-learn (Python)\n2. Keras (R)\n3. Big DL (Scala)\n",
      "metadata": {}
    },
    {
      "cell_type": "markdown",
      "source": "# Ex 6\n\n<table style=\"width:20%\">\n<tr>\n    <td>Data Science Tools<td>\n</tr>\n<tr>\n    <td>Jupiter</td>\n</tr>\n<tr>\n    <td>Seldon</td>\n</tr>\n<tr>    \n    <td>Apache SuperSet</td>\n</tr>",
      "metadata": {}
    },
    {
      "cell_type": "markdown",
      "source": "# Ex 7\n\n### Below are a few examples of evaluating arithmetic expressions in Python",
      "metadata": {}
    },
    {
      "cell_type": "code",
      "source": "# Ex 8\n# This a simple arithmetic expression to mutiply then add integers\n\n(3*4)+5",
      "metadata": {
        "trusted": true
      },
      "outputs": [
        {
          "execution_count": 24,
          "output_type": "execute_result",
          "data": {
            "text/plain": "17"
          },
          "metadata": {}
        }
      ],
      "execution_count": 24
    },
    {
      "cell_type": "code",
      "source": "# Ex 9\n# This will convert 200 minutes to hours by diving by 60\n\n200/60",
      "metadata": {
        "trusted": true
      },
      "outputs": [
        {
          "execution_count": 25,
          "output_type": "execute_result",
          "data": {
            "text/plain": "3.3333333333333335"
          },
          "metadata": {}
        }
      ],
      "execution_count": 25
    },
    {
      "cell_type": "markdown",
      "source": "# Ex 11\n\n## Author : Evgenii Korolev ",
      "metadata": {}
    },
    {
      "cell_type": "code",
      "source": "",
      "metadata": {
        "trusted": true
      },
      "outputs": [],
      "execution_count": null
    }
  ]
}